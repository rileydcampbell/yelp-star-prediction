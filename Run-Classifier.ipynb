{
 "cells": [
  {
   "cell_type": "code",
   "execution_count": 1,
   "metadata": {},
   "outputs": [],
   "source": [
    "import pyspark\n",
    "from pyspark import SparkContext, SparkConf\n",
    "from Classifier.Classifier import YelpClassifier\n",
    "import sys"
   ]
  },
  {
   "cell_type": "markdown",
   "metadata": {},
   "source": [
    "## FlatMap Functions"
   ]
  },
  {
   "cell_type": "code",
   "execution_count": 2,
   "metadata": {},
   "outputs": [],
   "source": [
    "def input_line_to_review(input_line):\n",
    "    # some reviews may be malformed/not contain all of the fields\n",
    "    tokens = input_line\n",
    "    review_id, num_stars, review_text = tokens[0], tokens[1], tokens[2]\n",
    "    return [(review_id, num_stars, review_text)]\n",
    "\n",
    "def input_line_to_review_no_label(input_line):\n",
    "    # some reviews may be malformed/not contain all of the fields\n",
    "    tokens = input_line\n",
    "    review_id, review_text = tokens[0], tokens[2]\n",
    "    return [(review_id, review_text)]\n",
    "\n",
    "def get_review_stars(actual_rdd):\n",
    "    # Transformations:\n",
    "    # 1. [(review_id, num_stars, review_text_as_string)] --> [(review_id, true_num_stars)]\n",
    "\n",
    "    reviews_and_stars = actual_rdd \\\n",
    "                        .flatMap(filter_only_review_id_and_stars) \\\n",
    "                        .sortByKey()\n",
    "\n",
    "    return reviews_and_stars\n",
    "\n",
    "# Converts a review to a key-value pair of only review ID and its number of stars\n",
    "def filter_only_review_id_and_stars(review):\n",
    "    review_id, num_stars, review_text = review\n",
    "    return [(review_id, num_stars)]\n"
   ]
  },
  {
   "cell_type": "code",
   "execution_count": 3,
   "metadata": {},
   "outputs": [],
   "source": [
    "def initRDDs(training_data_file, test_data_file):\n",
    "\n",
    "    # takes text file of reviews --> RDD\n",
    "    try:\n",
    "        train_rdd = training_data_file.flatMap(input_line_to_review)\n",
    "        test_rdd = test_data_file.flatMap(input_line_to_review_no_label)\n",
    "        actual_rdd = test_data_file.flatMap(input_line_to_review)\n",
    "        return train_rdd, test_rdd, actual_rdd\n",
    "    except:\n",
    "        print >> sys.stderr, \"Unable to load train and test data files\"\n",
    "        return\n"
   ]
  },
  {
   "cell_type": "markdown",
   "metadata": {},
   "source": [
    "## Read Review Data and Run Driver Functions"
   ]
  },
  {
   "cell_type": "code",
   "execution_count": 5,
   "metadata": {},
   "outputs": [],
   "source": [
    "reviews = sqlContext.read.json (\"/Users/rileycampbell/Desktop/GitHub/yelp-star-prediction/yelp_dataset/review.json\")\n",
    "review_rows = reviews.select(\"review_id\", \"stars\", \"text\")"
   ]
  },
  {
   "cell_type": "code",
   "execution_count": 6,
   "metadata": {},
   "outputs": [],
   "source": [
    "pracitce_df = review_rows.head(10000)\n",
    "\n",
    "\n",
    "training_file = sc.parallelize(pracitce_df[0:9000])\n",
    "test_file = sc.parallelize(pracitce_df[9000:10000])\n",
    "\n",
    "\n",
    "train_rdd, test_rdd, actual_rdd = initRDDs(training_file, test_file)\n",
    "\n",
    "# Run the driver functions\n",
    "# classifier.train runs on the training RDD\n",
    "# classifier.classify runs on the testing RDD\n",
    "classifier = YelpClassifier()\n",
    "classifier.train(train_rdd)\n",
    "predictedReviews = classifier.classify(test_rdd)"
   ]
  },
  {
   "cell_type": "markdown",
   "metadata": {},
   "source": [
    "## Determine Accuracy of Model Predictions"
   ]
  },
  {
   "cell_type": "code",
   "execution_count": 7,
   "metadata": {},
   "outputs": [],
   "source": [
    "actualReviews = get_review_stars(actual_rdd).collect()\n",
    "hits = 0\n",
    "star_hits_dict = {1: 0, 2:0, 3: 0, 4:0, 5: 0}\n",
    "total = 0\n",
    "star_total_dict = {1: 0, 2:0, 3: 0, 4:0, 5: 0}\n",
    "\n",
    "for predicted, actual in zip(predictedReviews, actualReviews):\n",
    "    actualLabel = int(actual[1])\n",
    "    predictedLabel = int(predicted[1][0])\n",
    "    if actualLabel == predictedLabel:\n",
    "        star_hits_dict[actualLabel] += 1\n",
    "        hits += 1\n",
    "    star_total_dict[actualLabel] += 1\n",
    "    total += 1\n",
    "\n",
    "accuracy = float(hits) / float(total)\n",
    "one_star_acc = float(star_hits_dict[1]) / float(star_total_dict[1])\n",
    "three_star_acc = float(star_hits_dict[3]) / float(star_total_dict[3])\n",
    "five_star_acc = float(star_hits_dict[5]) / float(star_total_dict[5])"
   ]
  },
  {
   "cell_type": "code",
   "execution_count": 8,
   "metadata": {},
   "outputs": [
    {
     "name": "stdout",
     "output_type": "stream",
     "text": [
      "\n",
      "\n",
      "\n",
      "\t\t\t\t\t############################################################\n",
      "\t\t\t\t\t\t\t\t\t\t\t\t\n",
      "\t\t\t\t\t\tOVERALL ACCURACY: 0.416000 (416/1000)\t\t\n",
      "\t\t\t\t\t\t1 STAR REVIEW ACCURACY: 0.500000 (71/142)\t\n",
      "\t\t\t\t\t\t3 STAR REVIEW ACCURACY: 0.500000 (56/112)\t\n",
      "\t\t\t\t\t\t5 STAR REVIEW ACCURACY: 0.459091 (202/440)\t\n",
      "\t\t\t\t\t\t\t\t\t\t\t\t\n",
      "\t\t\t\t\t############################################################\n",
      "\n",
      "\n",
      "\n",
      "\n"
     ]
    }
   ],
   "source": [
    "print(\"\\n\\n\\n\\t\\t\\t\\t\\t############################################################\")\n",
    "print(\"\\t\\t\\t\\t\\t\\t\\t\\t\\t\\t\\t\\t\")\n",
    "print(\"\\t\\t\\t\\t\\t\\tOVERALL ACCURACY: %f (%d/%d)\\t\\t\" %(accuracy, hits, total))\n",
    "print(\"\\t\\t\\t\\t\\t\\t1 STAR REVIEW ACCURACY: %f (%d/%d)\\t\" \\\n",
    "    %(one_star_acc, star_hits_dict[1], star_total_dict[1]))\n",
    "print(\"\\t\\t\\t\\t\\t\\t3 STAR REVIEW ACCURACY: %f (%d/%d)\\t\" \\\n",
    "    %(three_star_acc, star_hits_dict[3], star_total_dict[3]))\n",
    "print(\"\\t\\t\\t\\t\\t\\t5 STAR REVIEW ACCURACY: %f (%d/%d)\\t\" \\\n",
    "    %(five_star_acc, star_hits_dict[5], star_total_dict[5]))\n",
    "print(\"\\t\\t\\t\\t\\t\\t\\t\\t\\t\\t\\t\\t\")\n",
    "print(\"\\t\\t\\t\\t\\t############################################################\\n\\n\\n\\n\")"
   ]
  },
  {
   "cell_type": "code",
   "execution_count": null,
   "metadata": {},
   "outputs": [],
   "source": []
  }
 ],
 "metadata": {
  "kernelspec": {
   "display_name": "Python 3",
   "language": "python",
   "name": "python3"
  },
  "language_info": {
   "codemirror_mode": {
    "name": "ipython",
    "version": 3
   },
   "file_extension": ".py",
   "mimetype": "text/x-python",
   "name": "python",
   "nbconvert_exporter": "python",
   "pygments_lexer": "ipython3",
   "version": "3.6.9"
  }
 },
 "nbformat": 4,
 "nbformat_minor": 2
}
